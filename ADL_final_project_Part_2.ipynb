{
  "nbformat": 4,
  "nbformat_minor": 0,
  "metadata": {
    "colab": {
      "name": "ADL_final_project - Part 2.ipynb",
      "provenance": [],
      "collapsed_sections": [],
      "machine_shape": "hm"
    },
    "kernelspec": {
      "name": "python3",
      "display_name": "Python 3"
    },
    "accelerator": "GPU"
  },
  "cells": [
    {
      "cell_type": "markdown",
      "metadata": {
        "id": "AtsOV5S7qmmP",
        "colab_type": "text"
      },
      "source": [
        "# Detecting Cancer in Gigapixel Pathology Images - Part 2\n",
        "\n",
        "## COMS W4995 Applied Deep Learning\n",
        "\n",
        "Pranav Alva pa2541\n",
        "\n",
        "Megala Kannan msk2245\n",
        "\n",
        "Link to YouTube video: https://youtu.be/U3qlaW_XpUQ\n"
      ]
    },
    {
      "cell_type": "markdown",
      "metadata": {
        "id": "xIy09WUTmE3r",
        "colab_type": "text"
      },
      "source": [
        "Installing Libraries"
      ]
    },
    {
      "cell_type": "code",
      "metadata": {
        "colab_type": "code",
        "id": "HJ_T09jo5rxS",
        "colab": {
          "base_uri": "https://localhost:8080/",
          "height": 202
        },
        "outputId": "73e4c68d-6b13-4c77-8dfb-d1985f9210db"
      },
      "source": [
        "# Install the OpenSlide C library and Python bindings\n",
        "!apt-get install openslide-tools\n",
        "!pip install openslide-python"
      ],
      "execution_count": 1,
      "outputs": [
        {
          "output_type": "stream",
          "text": [
            "Reading package lists... Done\n",
            "Building dependency tree       \n",
            "Reading state information... Done\n",
            "openslide-tools is already the newest version (3.4.1+dfsg-2).\n",
            "The following package was automatically installed and is no longer required:\n",
            "  libnvidia-common-430\n",
            "Use 'apt autoremove' to remove it.\n",
            "0 upgraded, 0 newly installed, 0 to remove and 7 not upgraded.\n",
            "Requirement already satisfied: openslide-python in /usr/local/lib/python3.6/dist-packages (1.1.1)\n",
            "Requirement already satisfied: Pillow in /usr/local/lib/python3.6/dist-packages (from openslide-python) (4.3.0)\n",
            "Requirement already satisfied: olefile in /usr/local/lib/python3.6/dist-packages (from Pillow->openslide-python) (0.46)\n"
          ],
          "name": "stdout"
        }
      ]
    },
    {
      "cell_type": "code",
      "metadata": {
        "id": "ARV3aLjEOZUN",
        "colab_type": "code",
        "colab": {}
      },
      "source": [
        "%tensorflow_version 2.x\n",
        "import tensorflow as tf"
      ],
      "execution_count": 0,
      "outputs": []
    },
    {
      "cell_type": "code",
      "metadata": {
        "colab_type": "code",
        "id": "Ws_fS_f13WUd",
        "colab": {}
      },
      "source": [
        "%matplotlib inline\n",
        "import matplotlib.pyplot as plt\n",
        "import numpy as np\n",
        "from openslide import open_slide, __library_version__ as openslide_version\n",
        "import os\n",
        "from PIL import Image\n",
        "from skimage.color import rgb2gray\n",
        "from sklearn.metrics import confusion_matrix, classification_report, recall_score, precision_score\n",
        "from tensorflow.keras.applications import InceptionV3\n",
        "from tensorflow.keras.models import Model, Sequential\n",
        "from tensorflow.keras.layers import Input, Dense, Conv2D, MaxPool2D, Flatten, Dropout\n",
        "from tensorflow.keras import optimizers"
      ],
      "execution_count": 0,
      "outputs": []
    },
    {
      "cell_type": "markdown",
      "metadata": {
        "id": "pvEj4nBlmIjF",
        "colab_type": "text"
      },
      "source": [
        "Function to download images from cloud"
      ]
    },
    {
      "cell_type": "code",
      "metadata": {
        "id": "fHbaKqkFbChy",
        "colab_type": "code",
        "colab": {}
      },
      "source": [
        "def download_if_missing(url, target, extract=True):\n",
        "  if os.path.exists(target):\n",
        "    return target\n",
        "  return tf.keras.utils.get_file(target, origin=url, extract=extract)"
      ],
      "execution_count": 0,
      "outputs": []
    },
    {
      "cell_type": "markdown",
      "metadata": {
        "id": "-P_aCy4gmQM5",
        "colab_type": "text"
      },
      "source": [
        "Downloading Slide Images"
      ]
    },
    {
      "cell_type": "code",
      "metadata": {
        "id": "rfYnxWIya_Wj",
        "colab_type": "code",
        "colab": {}
      },
      "source": [
        "colab_root = \"/content/\" \n",
        "SLIDES_URL = \"https://storage.googleapis.com/dsi_originals/slide_small.zip\""
      ],
      "execution_count": 0,
      "outputs": []
    },
    {
      "cell_type": "code",
      "metadata": {
        "id": "m5LijgW8bmVI",
        "colab_type": "code",
        "outputId": "354157b9-bae2-40e3-fadf-94fc5b01bd9f",
        "colab": {
          "base_uri": "https://localhost:8080/",
          "height": 67
        }
      },
      "source": [
        "slides_file = os.path.join(colab_root, \"slides.zip\")\n",
        "images_folder = os.path.join(colab_root, 'slides/')\n",
        "download_if_missing(SLIDES_URL,\n",
        "                    slides_file,\n",
        "                    extract=False)"
      ],
      "execution_count": 0,
      "outputs": [
        {
          "output_type": "stream",
          "text": [
            "Downloading data from https://storage.googleapis.com/dsi_originals/slide_small.zip\n",
            "10554318848/10554312884 [==============================] - 230s 0us/step\n"
          ],
          "name": "stdout"
        },
        {
          "output_type": "execute_result",
          "data": {
            "text/plain": [
              "'/content/slides.zip'"
            ]
          },
          "metadata": {
            "tags": []
          },
          "execution_count": 12
        }
      ]
    },
    {
      "cell_type": "code",
      "metadata": {
        "id": "3kj_IeW6yPhm",
        "colab_type": "code",
        "colab": {}
      },
      "source": [
        "!7z x slides.zip"
      ],
      "execution_count": 0,
      "outputs": []
    },
    {
      "cell_type": "markdown",
      "metadata": {
        "id": "GcrQZTewmTx0",
        "colab_type": "text"
      },
      "source": [
        "Splitting into Train and Test data"
      ]
    },
    {
      "cell_type": "code",
      "metadata": {
        "id": "TDU8QKDMtpS8",
        "colab_type": "code",
        "colab": {}
      },
      "source": [
        "slide_paths = []\n",
        "mask_paths = []\n",
        "\n",
        "for file in os.listdir(\"/content/slide_small\"):\n",
        "  if file.endswith(\"mask.tif\"):\n",
        "    mask_paths.append(os.path.join(\"/content/slide_small\", file))\n",
        "  elif file.endswith(\".tif\"):\n",
        "    slide_paths.append(os.path.join(\"/content/slide_small\", file))\n",
        "\n",
        "slide_paths.sort()\n",
        "mask_paths.sort()"
      ],
      "execution_count": 0,
      "outputs": []
    },
    {
      "cell_type": "code",
      "metadata": {
        "id": "aIKUJ6kw-5nQ",
        "colab_type": "code",
        "colab": {}
      },
      "source": [
        "train_img = slide_paths[0:3]\n",
        "test_img = slide_paths[3:8]\n",
        "train_mask = mask_paths[0:3]\n",
        "test_mask = mask_paths[3:8]"
      ],
      "execution_count": 0,
      "outputs": []
    },
    {
      "cell_type": "markdown",
      "metadata": {
        "id": "kr-PZWRgl6nq",
        "colab_type": "text"
      },
      "source": [
        "Function to Read Slide"
      ]
    },
    {
      "cell_type": "code",
      "metadata": {
        "colab_type": "code",
        "id": "PhTQ5mnF3WUm",
        "colab": {}
      },
      "source": [
        "def read_slide(slide, x, y, level, width, height, as_float=False):\n",
        "    im = slide.read_region((x,y), level, (width, height))\n",
        "    im = im.convert('RGB') # drop the alpha channel\n",
        "    if as_float:\n",
        "        im = np.asarray(im, dtype=np.float32)\n",
        "    else:\n",
        "        im = np.asarray(im)\n",
        "    assert im.shape == (height, width, 3)\n",
        "    return im"
      ],
      "execution_count": 0,
      "outputs": []
    },
    {
      "cell_type": "markdown",
      "metadata": {
        "id": "eLIlkZ6vl--q",
        "colab_type": "text"
      },
      "source": [
        "Function to find tissue pixels and apply mask"
      ]
    },
    {
      "cell_type": "code",
      "metadata": {
        "id": "IBInSWE_ue-u",
        "colab_type": "code",
        "colab": {}
      },
      "source": [
        "def find_tissue_pixels(image, intensity=0.8):\n",
        "    im_gray = rgb2gray(image)\n",
        "    assert im_gray.shape == (image.shape[0], image.shape[1])\n",
        "    indices = np.where((im_gray <= intensity) &(im_gray !=0))\n",
        "    return zip(indices[0], indices[1])\n",
        "\n",
        "def apply_mask(im, mask, color=(255,0,0)):\n",
        "    masked = np.copy(im)\n",
        "    for x,y in mask: masked[x][y] = color\n",
        "    return masked\n"
      ],
      "execution_count": 0,
      "outputs": []
    },
    {
      "cell_type": "markdown",
      "metadata": {
        "id": "Ucae35fRA6y2",
        "colab_type": "text"
      },
      "source": [
        "Function of get evaluation metrics"
      ]
    },
    {
      "cell_type": "code",
      "metadata": {
        "id": "Cyo8ts_XA58s",
        "colab_type": "code",
        "colab": {}
      },
      "source": [
        "from sklearn.metrics import confusion_matrix, classification_report, recall_score, precision_score, f1_score\n",
        "\n",
        "def eval_metrics(y_true, y_pred):\n",
        "  intersection = np.logical_and(y_true, y_pred)\n",
        "  union = np.logical_or(y_true, y_pred)\n",
        "  iou_score = np.sum(intersection) / np.sum(union)\n",
        "\n",
        "  CM = confusion_matrix(y_true, y_pred)\n",
        "  TN = CM[0][0]\n",
        "  FN = CM[1][0]\n",
        "  TP = CM[1][1]\n",
        "  FP = CM[0][1]\n",
        "  \n",
        "  sens = TP / (TP + FN)\n",
        "  spec = TN / (TN + FP)\n",
        "  return iou_score, sens, spec"
      ],
      "execution_count": 0,
      "outputs": []
    },
    {
      "cell_type": "markdown",
      "metadata": {
        "id": "zn8X5gPzlyZC",
        "colab_type": "text"
      },
      "source": [
        "Patch Extraction for Multiscale Model"
      ]
    },
    {
      "cell_type": "code",
      "metadata": {
        "id": "Qb-DgjsjicHt",
        "colab_type": "code",
        "colab": {}
      },
      "source": [
        "# Function to extract identical patches from slide at 2 zoom levels\n",
        "\n",
        "def extract_twin_patches_2_levels(slide_path, tumor_mask_path, zoom_level, stride_size, patch_size):\n",
        "  '''\n",
        "  Function:\n",
        "  The fuctions extracts patches using the selected zoom level and identical pathes from the immediate numerically lower zoom level\n",
        "\n",
        "  Inputs: \n",
        "  slide_path - path to the slide image from which to extract patches\n",
        "  tumor_mask_path - path to the tumor mask corresponding to the slides\n",
        "  zoom_level - upper zoom level (numerically greater)\n",
        "  stride_size - inner patch size for selected zoom\n",
        "  patch_size - full patch size for selected zoom\n",
        "\n",
        "  Output:\n",
        "  image_patches_z1 - list of patches at selected zoom level\n",
        "  image_masks_z1 - list of corresponding masks\n",
        "  image_patches_z2 - list of patches at numerically lower zoom level\n",
        "  image_masks_z2 - list of corresponding masks\n",
        "  '''\n",
        "\n",
        "  ds_factor = 2**zoom_level\n",
        "  offset = int((patch_size - stride_size)/2)\n",
        "  zoom_level_1 = zoom_level - 1\n",
        "  ds_factor_1 = 2**zoom_level_1\n",
        "  stride_size_1 = int(stride_size * 2)\n",
        "  patch_size_1 = int(patch_size * 2)\n",
        "  offset_1 = int(offset * 2)\n",
        "\n",
        "  slide = open_slide(slide_path)\n",
        "  tumor_mask = open_slide(tumor_mask_path)\n",
        "\n",
        "  for j in range(0,slide.level_dimensions[zoom_level_1][1],stride_size_1):\n",
        "      for i in range(0,slide.level_dimensions[zoom_level_1][0], stride_size_1):\n",
        "        patch_1 = read_slide(slide,\n",
        "                            (i*ds_factor_1)-(offset_1*ds_factor_1),\n",
        "                            (j*ds_factor_1)-(offset_1*ds_factor_1),\n",
        "                            level = zoom_level_1,\n",
        "                            width = patch_size_1,\n",
        "                            height = patch_size_1) \n",
        "        mask_patch_1 = read_slide(tumor_mask,\n",
        "                                (i*ds_factor_1)-(offset_1*ds_factor_1),\n",
        "                                (j*ds_factor_1)-(offset_1*ds_factor_1),\n",
        "                                level = zoom_level_1,\n",
        "                                width = patch_size_1,\n",
        "                                height = patch_size_1)\n",
        "        patch_2 = read_slide(slide,\n",
        "                            (int(i/2)*ds_factor)-(offset*ds_factor),\n",
        "                            (int(j/2)*ds_factor)-(offset*ds_factor),\n",
        "                            level = zoom_level,\n",
        "                            width = patch_size,\n",
        "                            height = patch_size)\n",
        "        mask_patch_2 = read_slide(tumor_mask,\n",
        "                                (int(i/2)*ds_factor)-(offset*ds_factor),\n",
        "                                (int(j/2)*ds_factor)-(offset*ds_factor),\n",
        "                                level = zoom_level,\n",
        "                                width = patch_size,\n",
        "                                height = patch_size)\n",
        "        mask_patch_1 = mask_patch_1[:,:,0]\n",
        "        mask_patch_2 = mask_patch_2[:,:,0]\n",
        "        tissue_pixels = find_tissue_pixels(patch_1)\n",
        "        tissue_pixels = list(tissue_pixels)\n",
        "        percent_tissue = len(tissue_pixels) / float(patch_1.shape[0] * patch_1.shape[0]) * 100\n",
        "        #print(percent_tissue)\n",
        "        if percent_tissue > 20:\n",
        "          image_patches_z1.append(patch_2)\n",
        "          image_masks_z1.append(mask_patch_2)\n",
        "          image_patches_z2.append(patch_1)\n",
        "          image_masks_z2.append(mask_patch_1)"
      ],
      "execution_count": 0,
      "outputs": []
    },
    {
      "cell_type": "markdown",
      "metadata": {
        "colab_type": "text",
        "id": "pD_RS3vvlkJ3"
      },
      "source": [
        "Patch Prediction and Slide Reconstruction"
      ]
    },
    {
      "cell_type": "code",
      "metadata": {
        "colab_type": "code",
        "id": "iDkrbZ9clkJ-",
        "colab": {}
      },
      "source": [
        "def predict_make_slide(model, slide_path, zoom_level, stride_size, patch_size):\n",
        "  '''\n",
        "  Function:\n",
        "  The fuctions predicts on the test slide and constructs the predicted mask\n",
        "\n",
        "  Inputs: \n",
        "  model - multiscale prediction model\n",
        "  slide_path - path to the slide image from which to extract patches\n",
        "  zoom_level - upper zoom level (numerically greater)\n",
        "  stride_size - inner patch size for selected zoom\n",
        "  patch_size - full patch size for selected zoom\n",
        "\n",
        "  Output:\n",
        "  pred_mask - predicted slide mask\n",
        "  '''\n",
        "\n",
        "  ds_factor = 2**zoom_level\n",
        "  offset = int((patch_size - stride_size)/2)\n",
        "  zoom_level_1 = zoom_level - 1\n",
        "  ds_factor_1 = 2**zoom_level_1\n",
        "  stride_size_1 = int(stride_size * 2)\n",
        "  patch_size_1 = int(patch_size * 2)\n",
        "  offset_1 = int(offset * 2)\n",
        "\n",
        "  slide = open_slide(slide_path)\n",
        "  \n",
        "  pred_mask = np.full((slide.level_dimensions[zoom_level][1], slide.level_dimensions[zoom_level][0]), 0.0)\n",
        "\n",
        "  for j in range(0,slide.level_dimensions[zoom_level_1][1],stride_size_1):\n",
        "      for i in range(0,slide.level_dimensions[zoom_level_1][0], stride_size_1):\n",
        "        patch_1 = read_slide(slide,\n",
        "                            (i*ds_factor_1)-(offset_1*ds_factor_1),\n",
        "                            (j*ds_factor_1)-(offset_1*ds_factor_1),\n",
        "                            level = zoom_level_1,\n",
        "                            width = patch_size_1,\n",
        "                            height = patch_size_1) \n",
        "        patch_2 = read_slide(slide,\n",
        "                            (int(i/2)*ds_factor)-(offset*ds_factor),\n",
        "                            (int(j/2)*ds_factor)-(offset*ds_factor),\n",
        "                            level = zoom_level,\n",
        "                            width = patch_size,\n",
        "                            height = patch_size)\n",
        "        patch_1 = patch_1 / 255.\n",
        "        patch_2 = patch_2 / 255.\n",
        "        tissue_pixels = find_tissue_pixels(patch_1)\n",
        "        tissue_pixels = list(tissue_pixels)\n",
        "        percent_tissue = len(tissue_pixels) / float(patch_1.shape[0] * patch_1.shape[0]) * 100\n",
        "        prediction = model_multiscale.predict([tf.expand_dims(patch_2,0),tf.expand_dims(patch_1,0)], steps =1)[0,0]\n",
        "        if percent_tissue > 20:\n",
        "          if (((i/2)+stride_size) > slide.level_dimensions[zoom_level][0]) and (((j/2)+stride_size) > slide.level_dimensions[zoom_level][1]):\n",
        "            i_offset = int(slide.level_dimensions[zoom_level][0] - (i/2))\n",
        "            j_offset = int(slide.level_dimensions[zoom_level][1] - (j/2))\n",
        "            pred_mask[int(j/2):int(j/2)+j_offset,int(i/2):int(i/2)+i_offset] = np.full((j_offset, i_offset), prediction)\n",
        "          \n",
        "          elif (((i/2)+stride_size) > slide.level_dimensions[zoom_level][0]):\n",
        "            i_offset = int(slide.level_dimensions[zoom_level][0] - (i/2))\n",
        "            pred_mask[int(j/2):int(j/2)+stride_size,int(i/2):int(i/2)+i_offset] = np.full((stride_size, i_offset), prediction)\n",
        "          \n",
        "          elif (((j/2)+stride_size) > slide.level_dimensions[zoom_level][1]):\n",
        "            j_offset = int(slide.level_dimensions[zoom_level][1] - (j/2))\n",
        "            pred_mask[int(j/2):int(j/2)+j_offset,int(i/2):int(i/2)+stride_size] = np.full((j_offset, stride_size), prediction)\n",
        "          \n",
        "          else:\n",
        "            pred_mask[int(j/2):int(j/2)+stride_size,int(i/2):int(i/2)+stride_size] = np.full((stride_size, stride_size), prediction)\n",
        "        else:\n",
        "          if (((i/2)+stride_size) > slide.level_dimensions[zoom_level][0]) and (((j/2)+stride_size) > slide.level_dimensions[zoom_level][1]):\n",
        "            i_offset = int(slide.level_dimensions[zoom_level][0] - (i/2))\n",
        "            j_offset = int(slide.level_dimensions[zoom_level][1] - (j/2))\n",
        "            pred_mask[int(j/2):int(j/2)+j_offset,int(i/2):int(i/2)+i_offset] = np.full((j_offset, i_offset), 0.0)\n",
        "          \n",
        "          elif (((i/2)+stride_size) > slide.level_dimensions[zoom_level][0]):\n",
        "            i_offset = int(slide.level_dimensions[zoom_level][0] - (i/2))\n",
        "            pred_mask[int(j/2):int(j/2)+stride_size,int(i/2):int(i/2)+i_offset] = np.full((stride_size, i_offset), 0.0)\n",
        "          \n",
        "          elif (((j/2)+stride_size) > slide.level_dimensions[zoom_level][1]):\n",
        "            j_offset = int(slide.level_dimensions[zoom_level][1] - (j/2))\n",
        "            pred_mask[int(j/2):int(j/2)+j_offset,int(i/2):int(i/2)+stride_size] = np.full((j_offset, stride_size), 0.0)\n",
        "          \n",
        "          else:\n",
        "            pred_mask[int(j/2):int(j/2)+stride_size,int(i/2):int(i/2)+stride_size] = np.full((stride_size, stride_size), 0.0)\n",
        "  return pred_mask"
      ],
      "execution_count": 0,
      "outputs": []
    },
    {
      "cell_type": "markdown",
      "metadata": {
        "id": "2lzByPR6mbyY",
        "colab_type": "text"
      },
      "source": [
        "Extraction patches at zoom level 4 with patch size 80x80 and area of center size 40x40"
      ]
    },
    {
      "cell_type": "code",
      "metadata": {
        "id": "Z4y0FTL3mu7D",
        "colab_type": "code",
        "colab": {}
      },
      "source": [
        "# Parameters\n",
        "zoom_level = 4\n",
        "stride_size = 40\n",
        "patch_size = 80\n",
        "offset = 20"
      ],
      "execution_count": 0,
      "outputs": []
    },
    {
      "cell_type": "code",
      "metadata": {
        "id": "O_IXFKKeK7Kz",
        "colab_type": "code",
        "colab": {}
      },
      "source": [
        "image_patches_z1 = []\n",
        "image_masks_z1 = []\n",
        "image_patches_z2 = []\n",
        "image_masks_z2 = []\n",
        "\n",
        "for i in range(0,len(train_img)):\n",
        "  extract_twin_patches_2_levels(train_img[i],train_mask[i],zoom_level,stride_size,patch_size)"
      ],
      "execution_count": 0,
      "outputs": []
    },
    {
      "cell_type": "markdown",
      "metadata": {
        "id": "xpqlPUw1nSCv",
        "colab_type": "text"
      },
      "source": [
        "Converting patches to Numpy nd arrays"
      ]
    },
    {
      "cell_type": "code",
      "metadata": {
        "id": "vbcfCYK_8_2k",
        "colab_type": "code",
        "colab": {}
      },
      "source": [
        "image_patches_z1 = np.array(image_patches_z1)\n",
        "image_masks_z1 = np.array(image_masks_z1)"
      ],
      "execution_count": 0,
      "outputs": []
    },
    {
      "cell_type": "code",
      "metadata": {
        "id": "Yx-VQhMU9jp0",
        "colab_type": "code",
        "colab": {}
      },
      "source": [
        "image_patches_z2 = np.array(image_patches_z2)\n",
        "image_masks_z2 = np.array(image_masks_z2) "
      ],
      "execution_count": 0,
      "outputs": []
    },
    {
      "cell_type": "code",
      "metadata": {
        "id": "lXJGkkvJ96wL",
        "colab_type": "code",
        "outputId": "1e614beb-f047-485c-c5fa-0963cd847892",
        "colab": {
          "base_uri": "https://localhost:8080/",
          "height": 34
        }
      },
      "source": [
        "image_patches_z1.shape"
      ],
      "execution_count": 17,
      "outputs": [
        {
          "output_type": "execute_result",
          "data": {
            "text/plain": [
              "(16861, 80, 80, 3)"
            ]
          },
          "metadata": {
            "tags": []
          },
          "execution_count": 17
        }
      ]
    },
    {
      "cell_type": "code",
      "metadata": {
        "id": "Xv3KQL0Z9-tp",
        "colab_type": "code",
        "outputId": "9bfea5a8-c778-484b-f770-7fe731b38334",
        "colab": {
          "base_uri": "https://localhost:8080/",
          "height": 34
        }
      },
      "source": [
        "image_patches_z2.shape"
      ],
      "execution_count": 18,
      "outputs": [
        {
          "output_type": "execute_result",
          "data": {
            "text/plain": [
              "(16861, 160, 160, 3)"
            ]
          },
          "metadata": {
            "tags": []
          },
          "execution_count": 18
        }
      ]
    },
    {
      "cell_type": "markdown",
      "metadata": {
        "id": "bLBjDvUtnby3",
        "colab_type": "text"
      },
      "source": [
        "Plotting Image at both zoom levels"
      ]
    },
    {
      "cell_type": "code",
      "metadata": {
        "id": "gXXQYees05zL",
        "colab_type": "code",
        "outputId": "eac1d676-7009-4826-cc2e-611fa6ac33f4",
        "colab": {
          "base_uri": "https://localhost:8080/",
          "height": 321
        }
      },
      "source": [
        "plt.figure(figsize= (10,5))\n",
        "plt.subplot(1, 2, 1)\n",
        "plt.imshow(image_patches_z1[469]) \n",
        "plt.subplot(1,2,2)\n",
        "plt.imshow(image_masks_z1[469])"
      ],
      "execution_count": 19,
      "outputs": [
        {
          "output_type": "execute_result",
          "data": {
            "text/plain": [
              "<matplotlib.image.AxesImage at 0x7fba7c2ef940>"
            ]
          },
          "metadata": {
            "tags": []
          },
          "execution_count": 19
        },
        {
          "output_type": "display_data",
          "data": {
            "image/png": "[encoded data removed]",
            "text/plain": [
              "<Figure size 720x360 with 2 Axes>"
            ]
          },
          "metadata": {
            "tags": []
          }
        }
      ]
    },
    {
      "cell_type": "code",
      "metadata": {
        "id": "w2lSj-yE09NG",
        "colab_type": "code",
        "outputId": "916f612b-1a4f-4237-8786-0e271aa7b8ac",
        "colab": {
          "base_uri": "https://localhost:8080/",
          "height": 322
        }
      },
      "source": [
        "plt.figure(figsize= (10,5))\n",
        "plt.subplot(1, 2, 1)\n",
        "plt.imshow(image_patches_z2[469]) \n",
        "plt.subplot(1,2,2)\n",
        "plt.imshow(image_masks_z2[469])"
      ],
      "execution_count": 20,
      "outputs": [
        {
          "output_type": "execute_result",
          "data": {
            "text/plain": [
              "<matplotlib.image.AxesImage at 0x7fba7c3647f0>"
            ]
          },
          "metadata": {
            "tags": []
          },
          "execution_count": 20
        },
        {
          "output_type": "display_data",
          "data": {
            "image/png": "[encoded data removed]",
            "text/plain": [
              "<Figure size 720x360 with 2 Axes>"
            ]
          },
          "metadata": {
            "tags": []
          }
        }
      ]
    },
    {
      "cell_type": "markdown",
      "metadata": {
        "id": "mngovcuonoKQ",
        "colab_type": "text"
      },
      "source": [
        "Assigning labels to the Patches"
      ]
    },
    {
      "cell_type": "code",
      "metadata": {
        "id": "XWg4AXou3ZG9",
        "colab_type": "code",
        "colab": {}
      },
      "source": [
        "def assign_labels(image_masks):\n",
        "  image_labels = []\n",
        "  for mask in image_masks:\n",
        "    if np.count_nonzero(mask[20:60,20:60]) > 0:\n",
        "      image_labels.append(1)\n",
        "    else :\n",
        "      image_labels.append(0)\n",
        "  image_labels = np.array(image_labels)\n",
        "  return image_labels"
      ],
      "execution_count": 0,
      "outputs": []
    },
    {
      "cell_type": "code",
      "metadata": {
        "colab_type": "code",
        "id": "NWIFyYq-9bxC",
        "colab": {}
      },
      "source": [
        "image_labels_z1 = assign_labels(image_masks_z1)\n",
        "image_labels_z2 = assign_labels(image_masks_z2)"
      ],
      "execution_count": 0,
      "outputs": []
    },
    {
      "cell_type": "markdown",
      "metadata": {
        "id": "zgLP4abenutN",
        "colab_type": "text"
      },
      "source": [
        "Handling the class imbalance"
      ]
    },
    {
      "cell_type": "code",
      "metadata": {
        "id": "naEqEGgpHSLO",
        "colab_type": "code",
        "colab": {}
      },
      "source": [
        "def class_balanced(image_patches, image_labels):\n",
        "  class0 = np.where(image_labels==0)[0]\n",
        "  class1= np.where(image_labels==1)[0]\n",
        "  class1_upsampled = np.random.choice(class1, size = len(class0), replace= True)\n",
        "  assert(len(class1_upsampled)==len(class0))\n",
        "  \n",
        "  image_patches_0 = list(image_patches[class0])\n",
        "  image_patches_1= list(image_patches[class1_upsampled])\n",
        "  for array in image_patches_1:\n",
        "    image_patches_0.append(array)\n",
        "  image_patches = np.array(image_patches_0)\n",
        "\n",
        "  image_labels_0 = list(image_labels[class0])\n",
        "  image_labels_1= list(image_labels[class1_upsampled])\n",
        "  for array in image_labels_1:\n",
        "    image_labels_0.append(array)\n",
        "  image_labels = np.array(image_labels_0)\n",
        "  return image_patches, image_labels"
      ],
      "execution_count": 0,
      "outputs": []
    },
    {
      "cell_type": "code",
      "metadata": {
        "id": "RkXuNN30BQCO",
        "colab_type": "code",
        "colab": {}
      },
      "source": [
        "image_patches_bal_z1, image_labels_bal_z1 = class_balanced(image_patches_z1, image_labels_z1)\n",
        "image_patches_bal_z2, image_labels_bal_z2 = class_balanced(image_patches_z2, image_labels_z1)"
      ],
      "execution_count": 0,
      "outputs": []
    },
    {
      "cell_type": "markdown",
      "metadata": {
        "id": "s6xLJtB3n0bR",
        "colab_type": "text"
      },
      "source": [
        "Splitting Data in Training and Validation Splits"
      ]
    },
    {
      "cell_type": "code",
      "metadata": {
        "colab_type": "code",
        "id": "y8LSORtsFS3A",
        "colab": {}
      },
      "source": [
        "import sklearn\n",
        "from sklearn.model_selection import train_test_split\n",
        "X_train_z1, X_val_z1, y_train_z1, y_val_z1 = train_test_split(image_patches_bal_z1, image_labels_bal_z1, \n",
        "                                                    test_size=0.3,stratify = image_labels_bal_z1,random_state = 42)\n"
      ],
      "execution_count": 0,
      "outputs": []
    },
    {
      "cell_type": "code",
      "metadata": {
        "colab_type": "code",
        "id": "iJv8ltFBFS3L",
        "colab": {}
      },
      "source": [
        "X_train_z2, X_val_z2, y_train_z2, y_val_z2 = train_test_split(image_patches_bal_z2, image_labels_bal_z1, \n",
        "                                                    test_size=0.3,stratify = image_labels_bal_z1,random_state = 42)"
      ],
      "execution_count": 0,
      "outputs": []
    },
    {
      "cell_type": "markdown",
      "metadata": {
        "id": "_spiIPamn7yK",
        "colab_type": "text"
      },
      "source": [
        "Freeing Memory"
      ]
    },
    {
      "cell_type": "code",
      "metadata": {
        "colab_type": "code",
        "id": "JT1gVFBZFj1J",
        "colab": {}
      },
      "source": [
        "del image_patches_z1\n",
        "del image_labels_z1\n",
        "del image_masks_z1\n",
        "del image_patches_z2\n",
        "del image_masks_z2\n",
        "del image_patches_bal_z1\n",
        "del image_patches_bal_z2\n",
        "del image_labels_bal_z1\n",
        "del image_labels_bal_z2"
      ],
      "execution_count": 0,
      "outputs": []
    },
    {
      "cell_type": "markdown",
      "metadata": {
        "id": "k2NxlJ-RoCrZ",
        "colab_type": "text"
      },
      "source": [
        "Stadardizing data, normalizing and defining batches"
      ]
    },
    {
      "cell_type": "code",
      "metadata": {
        "colab_type": "code",
        "id": "55TwXSJcFj1V",
        "colab": {}
      },
      "source": [
        "from tensorflow.keras.preprocessing.image import ImageDataGenerator\n",
        "\n",
        "train_datagen = ImageDataGenerator(rescale= 1./255)\n",
        "val_datagen = ImageDataGenerator(rescale= 1./255)\n",
        "\n",
        "train_generator = train_datagen.flow([X_train_z1, X_train_z2], y_train_z1, batch_size=32, shuffle=True)\n",
        "val_generator = val_datagen.flow([X_val_z1, X_val_z2], y_val_z1, batch_size=32, shuffle=True)"
      ],
      "execution_count": 0,
      "outputs": []
    },
    {
      "cell_type": "markdown",
      "metadata": {
        "id": "Qp7t__VhoNAR",
        "colab_type": "text"
      },
      "source": [
        "Multiscale Model Definition"
      ]
    },
    {
      "cell_type": "code",
      "metadata": {
        "id": "UVkKU04A8liQ",
        "colab_type": "code",
        "colab": {}
      },
      "source": [
        "input_1 = Input(shape=(80, 80, 3))\n",
        "\n",
        "x = Conv2D(16, (3, 3), padding='valid', activation='relu')(input_1)\n",
        "x = Conv2D(16, (3, 3), padding='valid', activation='relu')(x)\n",
        "x = MaxPool2D(pool_size=(2,2), strides=(2,2))(x)\n",
        "x = Conv2D(32, (3, 3), padding='valid', activation='relu')(x)\n",
        "x = Conv2D(32, (3, 3), padding='valid', activation='relu')(x)\n",
        "x = MaxPool2D(pool_size=(2,2), strides=(2,2))(x)\n",
        "x = Conv2D(128, (3, 3), padding='valid', activation='relu')(x)\n",
        "x = Conv2D(128, (3, 3), padding='valid', activation='relu')(x)\n",
        "x = MaxPool2D(pool_size=(2,2), strides=(2,2))(x)\n",
        "x = Flatten()(x)\n",
        "x = Dense(256, activation='relu')(x)\n",
        "x = Dropout(rate=0.2)(x)\n",
        "x = Dense(128, activation='relu')(x)\n",
        "x = Dropout(rate=0.2)(x)\n",
        "\n",
        "input_2 = Input(shape=(160, 160, 3))\n",
        "\n",
        "y = Conv2D(16, (3, 3), padding='valid', activation='relu')(input_2)\n",
        "y = Conv2D(16, (3, 3), padding='valid', activation='relu')(y)\n",
        "y = MaxPool2D(pool_size=(2,2), strides=(2,2))(y)\n",
        "y = Conv2D(32, (3, 3), padding='valid', activation='relu')(y)\n",
        "y = Conv2D(32, (3, 3), padding='valid', activation='relu')(y)\n",
        "y = MaxPool2D(pool_size=(2,2), strides=(2,2))(y)\n",
        "y = Conv2D(128, (3, 3), padding='valid', activation='relu')(y)\n",
        "y = Conv2D(128, (3, 3), padding='valid', activation='relu')(y)\n",
        "y = MaxPool2D(pool_size=(2,2), strides=(2,2))(y)\n",
        "y = Flatten()(y)\n",
        "y = Dense(256, activation='relu')(y)\n",
        "y = Dropout(rate=0.2)(y)\n",
        "y = Dense(128, activation='relu')(y)\n",
        "y = Dropout(rate=0.2)(y)\n",
        "\n",
        "merged = tf.keras.layers.concatenate([x,y])\n",
        "\n",
        "output = Dense(1, activation = 'sigmoid')(merged)\n",
        "\n",
        "model_multiscale = Model(inputs=[input_1, input_2], outputs=output)"
      ],
      "execution_count": 0,
      "outputs": []
    },
    {
      "cell_type": "code",
      "metadata": {
        "colab_type": "code",
        "outputId": "be557574-1d83-4739-91e9-91ada308dad6",
        "id": "pzDv9aV280OG",
        "colab": {
          "base_uri": "https://localhost:8080/",
          "height": 1000
        }
      },
      "source": [
        "model_multiscale.summary()"
      ],
      "execution_count": 44,
      "outputs": [
        {
          "output_type": "stream",
          "text": [
            "Model: \"model_1\"\n",
            "__________________________________________________________________________________________________\n",
            "Layer (type)                    Output Shape         Param #     Connected to                     \n",
            "==================================================================================================\n",
            "input_3 (InputLayer)            [(None, 80, 80, 3)]  0                                            \n",
            "__________________________________________________________________________________________________\n",
            "input_4 (InputLayer)            [(None, 160, 160, 3) 0                                            \n",
            "__________________________________________________________________________________________________\n",
            "conv2d_12 (Conv2D)              (None, 78, 78, 16)   448         input_3[0][0]                    \n",
            "__________________________________________________________________________________________________\n",
            "conv2d_18 (Conv2D)              (None, 158, 158, 16) 448         input_4[0][0]                    \n",
            "__________________________________________________________________________________________________\n",
            "conv2d_13 (Conv2D)              (None, 76, 76, 16)   2320        conv2d_12[0][0]                  \n",
            "__________________________________________________________________________________________________\n",
            "conv2d_19 (Conv2D)              (None, 156, 156, 16) 2320        conv2d_18[0][0]                  \n",
            "__________________________________________________________________________________________________\n",
            "max_pooling2d_6 (MaxPooling2D)  (None, 38, 38, 16)   0           conv2d_13[0][0]                  \n",
            "__________________________________________________________________________________________________\n",
            "max_pooling2d_9 (MaxPooling2D)  (None, 78, 78, 16)   0           conv2d_19[0][0]                  \n",
            "__________________________________________________________________________________________________\n",
            "conv2d_14 (Conv2D)              (None, 36, 36, 32)   4640        max_pooling2d_6[0][0]            \n",
            "__________________________________________________________________________________________________\n",
            "conv2d_20 (Conv2D)              (None, 76, 76, 32)   4640        max_pooling2d_9[0][0]            \n",
            "__________________________________________________________________________________________________\n",
            "conv2d_15 (Conv2D)              (None, 34, 34, 32)   9248        conv2d_14[0][0]                  \n",
            "__________________________________________________________________________________________________\n",
            "conv2d_21 (Conv2D)              (None, 74, 74, 32)   9248        conv2d_20[0][0]                  \n",
            "__________________________________________________________________________________________________\n",
            "max_pooling2d_7 (MaxPooling2D)  (None, 17, 17, 32)   0           conv2d_15[0][0]                  \n",
            "__________________________________________________________________________________________________\n",
            "max_pooling2d_10 (MaxPooling2D) (None, 37, 37, 32)   0           conv2d_21[0][0]                  \n",
            "__________________________________________________________________________________________________\n",
            "conv2d_16 (Conv2D)              (None, 15, 15, 128)  36992       max_pooling2d_7[0][0]            \n",
            "__________________________________________________________________________________________________\n",
            "conv2d_22 (Conv2D)              (None, 35, 35, 128)  36992       max_pooling2d_10[0][0]           \n",
            "__________________________________________________________________________________________________\n",
            "conv2d_17 (Conv2D)              (None, 13, 13, 128)  147584      conv2d_16[0][0]                  \n",
            "__________________________________________________________________________________________________\n",
            "conv2d_23 (Conv2D)              (None, 33, 33, 128)  147584      conv2d_22[0][0]                  \n",
            "__________________________________________________________________________________________________\n",
            "max_pooling2d_8 (MaxPooling2D)  (None, 6, 6, 128)    0           conv2d_17[0][0]                  \n",
            "__________________________________________________________________________________________________\n",
            "max_pooling2d_11 (MaxPooling2D) (None, 16, 16, 128)  0           conv2d_23[0][0]                  \n",
            "__________________________________________________________________________________________________\n",
            "flatten_2 (Flatten)             (None, 4608)         0           max_pooling2d_8[0][0]            \n",
            "__________________________________________________________________________________________________\n",
            "flatten_3 (Flatten)             (None, 32768)        0           max_pooling2d_11[0][0]           \n",
            "__________________________________________________________________________________________________\n",
            "dense_5 (Dense)                 (None, 256)          1179904     flatten_2[0][0]                  \n",
            "__________________________________________________________________________________________________\n",
            "dense_7 (Dense)                 (None, 256)          8388864     flatten_3[0][0]                  \n",
            "__________________________________________________________________________________________________\n",
            "dropout_4 (Dropout)             (None, 256)          0           dense_5[0][0]                    \n",
            "__________________________________________________________________________________________________\n",
            "dropout_6 (Dropout)             (None, 256)          0           dense_7[0][0]                    \n",
            "__________________________________________________________________________________________________\n",
            "dense_6 (Dense)                 (None, 128)          32896       dropout_4[0][0]                  \n",
            "__________________________________________________________________________________________________\n",
            "dense_8 (Dense)                 (None, 128)          32896       dropout_6[0][0]                  \n",
            "__________________________________________________________________________________________________\n",
            "dropout_5 (Dropout)             (None, 128)          0           dense_6[0][0]                    \n",
            "__________________________________________________________________________________________________\n",
            "dropout_7 (Dropout)             (None, 128)          0           dense_8[0][0]                    \n",
            "__________________________________________________________________________________________________\n",
            "concatenate_1 (Concatenate)     (None, 256)          0           dropout_5[0][0]                  \n",
            "                                                                 dropout_7[0][0]                  \n",
            "__________________________________________________________________________________________________\n",
            "dense_9 (Dense)                 (None, 1)            257         concatenate_1[0][0]              \n",
            "==================================================================================================\n",
            "Total params: 10,037,281\n",
            "Trainable params: 10,037,281\n",
            "Non-trainable params: 0\n",
            "__________________________________________________________________________________________________\n"
          ],
          "name": "stdout"
        }
      ]
    },
    {
      "cell_type": "code",
      "metadata": {
        "colab_type": "code",
        "id": "-TnF95QD80OK",
        "colab": {}
      },
      "source": [
        "from tensorflow.keras import optimizers\n",
        "\n",
        "adam = optimizers.Adam(lr=1e-4)\n",
        "model_multiscale.compile(optimizer=adam, \n",
        "              loss='binary_crossentropy',\n",
        "              metrics=['accuracy'])"
      ],
      "execution_count": 0,
      "outputs": []
    },
    {
      "cell_type": "markdown",
      "metadata": {
        "id": "9t5HvTuUoXQh",
        "colab_type": "text"
      },
      "source": [
        "Fitting the Model on the Training Data and Validating"
      ]
    },
    {
      "cell_type": "code",
      "metadata": {
        "colab_type": "code",
        "outputId": "31d6fc94-ec85-47e3-a37d-6042a8e6a63d",
        "id": "zZphZ1y380OO",
        "colab": {
          "base_uri": "https://localhost:8080/",
          "height": 269
        }
      },
      "source": [
        "history = model_multiscale.fit_generator(train_generator,\n",
        "                              steps_per_epoch = len(X_train_z1) //32,\n",
        "                              epochs = 5,\n",
        "                              validation_data = val_generator)"
      ],
      "execution_count": 46,
      "outputs": [
        {
          "output_type": "stream",
          "text": [
            "Epoch 1/5\n",
            "583/585 [============================>.] - ETA: 0s - loss: 0.4170 - acc: 0.8495Epoch 1/5\n",
            "585/585 [==============================] - 26s 45ms/step - loss: 0.4165 - acc: 0.8496 - val_loss: 0.1252 - val_acc: 0.9507\n",
            "Epoch 2/5\n",
            "584/585 [============================>.] - ETA: 0s - loss: 0.1273 - acc: 0.9539Epoch 1/5\n",
            "585/585 [==============================] - 25s 42ms/step - loss: 0.1271 - acc: 0.9539 - val_loss: 0.0772 - val_acc: 0.9787\n",
            "Epoch 3/5\n",
            "583/585 [============================>.] - ETA: 0s - loss: 0.0774 - acc: 0.9741Epoch 1/5\n",
            "585/585 [==============================] - 25s 42ms/step - loss: 0.0774 - acc: 0.9741 - val_loss: 0.0557 - val_acc: 0.9827\n",
            "Epoch 4/5\n",
            "584/585 [============================>.] - ETA: 0s - loss: 0.0438 - acc: 0.9849Epoch 1/5\n",
            "585/585 [==============================] - 24s 42ms/step - loss: 0.0438 - acc: 0.9849 - val_loss: 0.1888 - val_acc: 0.9381\n",
            "Epoch 5/5\n",
            "583/585 [============================>.] - ETA: 0s - loss: 0.0342 - acc: 0.9894Epoch 1/5\n",
            "585/585 [==============================] - 24s 42ms/step - loss: 0.0341 - acc: 0.9895 - val_loss: 0.0323 - val_acc: 0.9908\n"
          ],
          "name": "stdout"
        }
      ]
    },
    {
      "cell_type": "markdown",
      "metadata": {
        "colab_type": "text",
        "id": "bAF4NFZVCz8h"
      },
      "source": [
        "Contructing the Predicted Mask on Test Image"
      ]
    },
    {
      "cell_type": "code",
      "metadata": {
        "colab_type": "code",
        "id": "UrBPQGyfCz8j",
        "colab": {}
      },
      "source": [
        "pred_mask = predict_make_slide(model_multiscale,test_img[0],zoom_level,stride_size, patch_size)"
      ],
      "execution_count": 0,
      "outputs": []
    },
    {
      "cell_type": "code",
      "metadata": {
        "colab_type": "code",
        "id": "OsmXw5SMCz8m",
        "colab": {}
      },
      "source": [
        "img = test_img[0]\n",
        "img_mask = test_mask[0]\n",
        "slide = open_slide(img)\n",
        "tumor_mask = open_slide(img_mask)"
      ],
      "execution_count": 0,
      "outputs": []
    },
    {
      "cell_type": "code",
      "metadata": {
        "id": "H5giuNPL6Kv7",
        "colab_type": "code",
        "outputId": "6f017cd1-d290-4590-934d-24ecf344854f",
        "colab": {
          "base_uri": "https://localhost:8080/",
          "height": 821
        }
      },
      "source": [
        "plt.figure(figsize=(10,10), dpi=100)\n",
        "plt.imshow(pred_mask_aug, cmap = 'jet')\n",
        "plt.savefig('custom_pred1')"
      ],
      "execution_count": 0,
      "outputs": [
        {
          "output_type": "display_data",
          "data": {
            "image/png": "[encoded data removed]",
            "text/plain": [
              "<Figure size 1000x1000 with 1 Axes>"
            ]
          },
          "metadata": {
            "tags": []
          }
        }
      ]
    },
    {
      "cell_type": "code",
      "metadata": {
        "colab_type": "code",
        "id": "FQFJVTRK4XQ1",
        "colab": {}
      },
      "source": [
        "y_true = mask_image.flatten()\n",
        "y_pred = pred_mask_aug.flatten()"
      ],
      "execution_count": 0,
      "outputs": []
    },
    {
      "cell_type": "code",
      "metadata": {
        "colab_type": "code",
        "id": "7EnX9FTI4XQ5",
        "colab": {}
      },
      "source": [
        "rec_list = []\n",
        "for i in np.linspace(0.1,0.5,8):\n",
        "  new_pred = np.where(y_pred > i, 1, 0)\n",
        "  rec_list.append(recall_score(y_true,new_pred))"
      ],
      "execution_count": 0,
      "outputs": []
    },
    {
      "cell_type": "code",
      "metadata": {
        "colab_type": "code",
        "outputId": "4825b464-64f0-41bd-dd7d-4c409b5a4326",
        "id": "Krb238Ok4XQ7",
        "colab": {
          "base_uri": "https://localhost:8080/",
          "height": 51
        }
      },
      "source": [
        "print(np.linspace(0.1,0.5,8))"
      ],
      "execution_count": 0,
      "outputs": [
        {
          "output_type": "stream",
          "text": [
            "[0.1        0.15714286 0.21428571 0.27142857 0.32857143 0.38571429\n",
            " 0.44285714 0.5       ]\n"
          ],
          "name": "stdout"
        }
      ]
    },
    {
      "cell_type": "code",
      "metadata": {
        "colab_type": "code",
        "outputId": "57888e53-5865-495d-ab51-409389719a54",
        "id": "i4Y30dt64XRA",
        "colab": {
          "base_uri": "https://localhost:8080/",
          "height": 153
        }
      },
      "source": [
        "rec_list"
      ],
      "execution_count": 0,
      "outputs": [
        {
          "output_type": "execute_result",
          "data": {
            "text/plain": [
              "[0.8272212785609732,\n",
              " 0.7729603218711106,\n",
              " 0.7322646043537138,\n",
              " 0.7019482908424851,\n",
              " 0.6675068295852152,\n",
              " 0.6675068295852152,\n",
              " 0.5735599164011804,\n",
              " 0.5551415622333722]"
            ]
          },
          "metadata": {
            "tags": []
          },
          "execution_count": 111
        }
      ]
    },
    {
      "cell_type": "code",
      "metadata": {
        "colab_type": "code",
        "id": "31dhiOx_4XRB",
        "colab": {}
      },
      "source": [
        "prec_list = []\n",
        "for i in np.linspace(0.1,0.5,8):\n",
        "  new_pred = np.where(y_pred > i, 1, 0)\n",
        "  prec_list.append(precision_score(y_true,new_pred))"
      ],
      "execution_count": 0,
      "outputs": []
    },
    {
      "cell_type": "code",
      "metadata": {
        "id": "tL5t5xlN4tpW",
        "colab_type": "code",
        "outputId": "289cae0e-9d92-4fe3-b36b-063556fe911d",
        "colab": {
          "base_uri": "https://localhost:8080/",
          "height": 153
        }
      },
      "source": [
        "prec_list"
      ],
      "execution_count": 0,
      "outputs": [
        {
          "output_type": "execute_result",
          "data": {
            "text/plain": [
              "[0.07779740871613663,\n",
              " 0.09843301435406698,\n",
              " 0.1162388170974155,\n",
              " 0.1353804347826087,\n",
              " 0.1514133522727273,\n",
              " 0.1665546875,\n",
              " 0.16961574074074073,\n",
              " 0.19356168122270742]"
            ]
          },
          "metadata": {
            "tags": []
          },
          "execution_count": 113
        }
      ]
    },
    {
      "cell_type": "code",
      "metadata": {
        "colab_type": "code",
        "id": "VLe1o-vX5Mm8",
        "colab": {}
      },
      "source": [
        "#using probability threshold 0.328\n",
        "y_pred_new = np.where(y_pred > 0.328, 1, 0)"
      ],
      "execution_count": 0,
      "outputs": []
    },
    {
      "cell_type": "code",
      "metadata": {
        "colab_type": "code",
        "id": "Db83o4Nx5MnB",
        "colab": {}
      },
      "source": [
        "iou, sens, spec = eval_metrics(y_true, y_pred_new)"
      ],
      "execution_count": 0,
      "outputs": []
    },
    {
      "cell_type": "code",
      "metadata": {
        "colab_type": "code",
        "outputId": "d67011a1-c546-43bc-d766-5880f7a8841a",
        "id": "MXZAivlG5MnC",
        "colab": {
          "base_uri": "https://localhost:8080/",
          "height": 34
        }
      },
      "source": [
        "print(iou)"
      ],
      "execution_count": 0,
      "outputs": [
        {
          "output_type": "stream",
          "text": [
            "0.14079451588883182\n"
          ],
          "name": "stdout"
        }
      ]
    },
    {
      "cell_type": "code",
      "metadata": {
        "colab_type": "code",
        "outputId": "cdd23f01-eb4f-4767-ee11-9aa278f8d758",
        "id": "MkhSJkhb5MnE",
        "colab": {
          "base_uri": "https://localhost:8080/",
          "height": 34
        }
      },
      "source": [
        "print(spec)"
      ],
      "execution_count": 0,
      "outputs": [
        {
          "output_type": "stream",
          "text": [
            "0.9781693535497776\n"
          ],
          "name": "stdout"
        }
      ]
    },
    {
      "cell_type": "code",
      "metadata": {
        "colab_type": "code",
        "outputId": "a73a79bb-3e51-4f16-abe3-454b3c2c5ad0",
        "id": "vkAWJ4jF5MnG",
        "colab": {
          "base_uri": "https://localhost:8080/",
          "height": 170
        }
      },
      "source": [
        "print(classification_report(y_true, y_pred_new, target_names=['class 0', 'class 1']))"
      ],
      "execution_count": 0,
      "outputs": [
        {
          "output_type": "stream",
          "text": [
            "              precision    recall  f1-score   support\n",
            "\n",
            "     class 0       1.00      0.98      0.99  21892343\n",
            "     class 1       0.15      0.67      0.25    127753\n",
            "\n",
            "    accuracy                           0.98  22020096\n",
            "   macro avg       0.57      0.82      0.62  22020096\n",
            "weighted avg       0.99      0.98      0.98  22020096\n",
            "\n"
          ],
          "name": "stdout"
        }
      ]
    },
    {
      "cell_type": "code",
      "metadata": {
        "colab_type": "code",
        "id": "1qXfd3_H5MnI",
        "colab": {}
      },
      "source": [
        "pred_mask_new = np.where(pred_mask_aug > 0.328 , 1, 0)"
      ],
      "execution_count": 0,
      "outputs": []
    },
    {
      "cell_type": "code",
      "metadata": {
        "colab_type": "code",
        "outputId": "753fb1ec-68f4-494c-f478-5ea92bf2cd23",
        "id": "t4FiRd0P5MnJ",
        "colab": {
          "base_uri": "https://localhost:8080/",
          "height": 838
        }
      },
      "source": [
        "plt.figure(figsize=(10,10), dpi=100)\n",
        "plt.imshow(pred_mask_new, cmap = 'jet')"
      ],
      "execution_count": 0,
      "outputs": [
        {
          "output_type": "execute_result",
          "data": {
            "text/plain": [
              "<matplotlib.image.AxesImage at 0x7f0bfc9a27f0>"
            ]
          },
          "metadata": {
            "tags": []
          },
          "execution_count": 206
        },
        {
          "output_type": "display_data",
          "data": {
            "image/png": "[encoded data removed]",
            "text/plain": [
              "<Figure size 1000x1000 with 1 Axes>"
            ]
          },
          "metadata": {
            "tags": []
          }
        }
      ]
    },
    {
      "cell_type": "markdown",
      "metadata": {
        "id": "x5-nCV2wCz-A",
        "colab_type": "text"
      },
      "source": [
        "Saving Model"
      ]
    },
    {
      "cell_type": "code",
      "metadata": {
        "id": "zkXRf1zAZI8-",
        "colab_type": "code",
        "outputId": "fa50750c-7535-4f1b-d209-f692fdf16340",
        "colab": {
          "base_uri": "https://localhost:8080/",
          "height": 34
        }
      },
      "source": [
        "from tensorflow import saved_model\n",
        "saved_model.save(model_multiscale, \"/content/custom_multiscale\")"
      ],
      "execution_count": 53,
      "outputs": [
        {
          "output_type": "stream",
          "text": [
            "INFO:tensorflow:Assets written to: /content/custom_multiscale/assets\n"
          ],
          "name": "stdout"
        }
      ]
    }
  ]
}